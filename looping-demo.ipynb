{
 "cells": [
  {
   "cell_type": "code",
   "execution_count": 2,
   "metadata": {},
   "outputs": [],
   "source": [
    "from PIL import Image, ImageFilter, ImageChops\n",
    "\n",
    "import os\n",
    "all_files = os.listdir(\"./demo_crops/C129_to_130_orig/\")\n",
    "box_3 = (1315, 280, 3180, 400)\n",
    "box_4 = (1315, 400, 3180, 505)\n",
    "box_5 = (1315, 505, 3180, 615)\n",
    "box_6 = (1315, 615, 3180, 725)\n",
    "box_7 = (1315, 725, 3180, 825)\n",
    "\n",
    "for file in all_files:\n",
    "    name = file[:-4]\n",
    "    image = Image.open('./demo_crops/C129_to_130_orig/' + file)\n",
    "    image.crop(box_3).save('./demo_crops/C129_to_130_cropped/' + name + 'box_3.jpg')\n",
    "    image.crop(box_4).save('./demo_crops/C129_to_130_cropped/' + name + 'box_4.jpg')\n",
    "    image.crop(box_5).save('./demo_crops/C129_to_130_cropped/' + name + 'box_5.jpg')\n",
    "    image.crop(box_6).save('./demo_crops/C129_to_130_cropped/' + name + 'box_6.jpg')\n",
    "    image.crop(box_7).save('./demo_crops/C129_to_130_cropped/' + name + 'box_7.jpg')"
   ]
  },
  {
   "cell_type": "code",
   "execution_count": null,
   "metadata": {},
   "outputs": [],
   "source": []
  }
 ],
 "metadata": {
  "kernelspec": {
   "display_name": "Python 3.9.15 ('mrsenv')",
   "language": "python",
   "name": "python3"
  },
  "language_info": {
   "codemirror_mode": {
    "name": "ipython",
    "version": 3
   },
   "file_extension": ".py",
   "mimetype": "text/x-python",
   "name": "python",
   "nbconvert_exporter": "python",
   "pygments_lexer": "ipython3",
   "version": "3.9.15"
  },
  "orig_nbformat": 4,
  "vscode": {
   "interpreter": {
    "hash": "71564635c78bc33da413dc7abf9aa7d07a9d6abe9f6fee17e477b67014813ec4"
   }
  }
 },
 "nbformat": 4,
 "nbformat_minor": 2
}
